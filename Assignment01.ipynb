{
 "cells": [
  {
   "cell_type": "markdown",
   "id": "957b2cc9-1084-4970-897b-c1fe1848cb59",
   "metadata": {},
   "source": [
    "### 1.What does one mean by the term &quot;machine learning&quot;?"
   ]
  },
  {
   "cell_type": "markdown",
   "id": "ae0cedfc-8ef4-401b-81bb-2b7df2f6881d",
   "metadata": {},
   "source": [
    "Machine Learning popularly known as Ml is the branch of Artificial Intelligence (AI) that allows software applications to become more accurate at predicting outcomes without being explicitly programmed to do so. Machine learning algorithms use historical data as input to predict new output values.\n"
   ]
  },
  {
   "cell_type": "markdown",
   "id": "0bf4059b-7d04-412e-b92a-7e6ef16aebe2",
   "metadata": {},
   "source": [
    "### 2.Can you think of 4 distinct types of issues where it shines?"
   ]
  },
  {
   "cell_type": "markdown",
   "id": "79d22a52-e35d-4b0c-ae23-adfcc30d9360",
   "metadata": {},
   "source": [
    "1->Image Recognition: Image recognition is one of the most common applications of machine learning. It is used to identify objects, persons, places, digital images, etc. The popular use case of image recognition and face detection is Automatic friend tagging suggestion.\n",
    "\n",
    "2->Speech Recognition: While using Google, we get an option of Search by voice, it comes under speech recognition, and it's a popular application of Machine Learning. Speech recognition is a process of converting voice instructions into text, and it is also known as Speech to text, or Computer based speech recognition At present, machine learning algorithms are widely used by various applications of speech recognition. Google assistant, Siri, Cortana, and Alexa are using speech recognition technology to follow the voice instructions.\n",
    "\n",
    "3->Traffic prediction: It predicts the traffic conditions such as whether traffic is cleared, slow-moving, or heavily congested with the help of two ways: Real Time location of the vehicle form Google Map app and sensors Average time has taken on past days at the same time.\n",
    "\n",
    "4->Product recommendations: Machine learning is widely used by various e-commerce and entertainment companies such as Amazon, Netflix, etc., for product recommendation to the user."
   ]
  },
  {
   "cell_type": "markdown",
   "id": "81ad08f4-839e-4aef-8c12-8a652173b8c3",
   "metadata": {},
   "source": [
    "### 3.What is a labeled training set, and how does it work?"
   ]
  },
  {
   "cell_type": "markdown",
   "id": "73492916-7319-4b39-a515-8a2c826f9572",
   "metadata": {},
   "source": [
    "You split up the data containing known response variable values into two pieces. The training set is used to train the algorithm, and then you use the trained model on the test set to predict the response variable values that are already known."
   ]
  },
  {
   "cell_type": "markdown",
   "id": "9a0e31d9-5a52-4b9e-858f-21d0b3fdb3cf",
   "metadata": {},
   "source": [
    "### 4.What are the two most important tasks that are supervised?"
   ]
  },
  {
   "cell_type": "markdown",
   "id": "e5dfd6e9-a891-45a5-b567-f6fe1787780f",
   "metadata": {},
   "source": [
    "The two most common supervised learning tasks are Regression and Classification."
   ]
  },
  {
   "cell_type": "markdown",
   "id": "ca7fbc15-ad1a-4850-8541-31286541b48d",
   "metadata": {},
   "source": [
    "### 5.Can you think of four examples of unsupervised tasks?"
   ]
  },
  {
   "cell_type": "markdown",
   "id": "3f06f439-6d92-4fac-aba2-7742fa2892d7",
   "metadata": {},
   "source": [
    "Four common Unsupervised Tasks included Clustering, Visualization, Dimensionality Reduction, and Association Rule Learning."
   ]
  },
  {
   "cell_type": "markdown",
   "id": "cfceb7ac-c05e-4ef9-a880-415562da4462",
   "metadata": {},
   "source": [
    "### 6.State the machine learning model that would be best to make a robot walk through various unfamiliar terrains?"
   ]
  },
  {
   "cell_type": "markdown",
   "id": "f57bbea9-bf2a-4011-8a09-58da8552e8a5",
   "metadata": {},
   "source": [
    " The best Machine Learning algorithm to allow a Robot to walk in unfamiliar terrains is Reinforced Learning, where the robot can learn from response of the terrain to optimize itself."
   ]
  },
  {
   "cell_type": "markdown",
   "id": "118738ee-5665-4f35-a63b-ca4ddd460b2e",
   "metadata": {},
   "source": [
    "### 7.Which algorithm will you use to divide your customers into different groups?"
   ]
  },
  {
   "cell_type": "markdown",
   "id": "3d6caa75-7afe-4e9e-8085-df3afb04bf58",
   "metadata": {},
   "source": [
    "The Best Algorithm to Segment Customers into different groups is either Supervised Learning (if the groups have known labels) or Unsupervised Learning (if there are no group labels)."
   ]
  },
  {
   "cell_type": "markdown",
   "id": "d3e5a9cb-39df-4ca6-ae43-e25b3f724fc5",
   "metadata": {},
   "source": [
    "### 8.Will you consider the problem of spam detection to be a supervised or unsupervised learning problem?"
   ]
  },
  {
   "cell_type": "markdown",
   "id": "190b2656-d645-4b3a-9785-9c092e88e7bc",
   "metadata": {},
   "source": [
    " Spam detection is a Supervised Machine Learning problem because the labels are known (spam or no spam)."
   ]
  },
  {
   "cell_type": "markdown",
   "id": "7df90cea-07f5-4a1e-9614-a2a8e5415d1b",
   "metadata": {},
   "source": [
    "### 9.What is the concept of an online learning system?"
   ]
  },
  {
   "cell_type": "markdown",
   "id": "e4d19e8c-c0dd-47dd-a7a0-70210f9aa550",
   "metadata": {},
   "source": [
    "Online learning system is a learning system in which the machine learns continously, as data is given in small streams continuously."
   ]
  },
  {
   "cell_type": "markdown",
   "id": "03ceb3f9-9b0b-4503-a8a8-dba839b67fc1",
   "metadata": {},
   "source": [
    "### 10.What is out-of-core learning, and how does it differ from core learning?"
   ]
  },
  {
   "cell_type": "markdown",
   "id": "027512f9-5f0a-4ec3-942a-1edf6182aa32",
   "metadata": {},
   "source": [
    "Out-of-core learning system is a system that can handle data that cannot fit into your computer memory. It uses online learning system to feed data in small bits."
   ]
  },
  {
   "cell_type": "markdown",
   "id": "64580fea-5cfc-4773-ab12-542fb7088e3e",
   "metadata": {},
   "source": [
    "### 11.What kind of learning algorithm makes predictions using a similarity measure?"
   ]
  },
  {
   "cell_type": "markdown",
   "id": "60657aa0-1f3e-4074-95ed-8d7741b2415f",
   "metadata": {},
   "source": [
    " Learning algorithm that relies on a similarity measure to make predictions is Instance Based Algorithm"
   ]
  },
  {
   "cell_type": "markdown",
   "id": "7c098be3-d034-4c2f-834f-87a251fb428f",
   "metadata": {},
   "source": [
    "### 12.What&#39;s the difference between a model parameter and a hyperparameter in a learning algorithm?"
   ]
  },
  {
   "cell_type": "markdown",
   "id": "fdb2cd60-1081-4730-aa68-ec04c236a074",
   "metadata": {},
   "source": [
    "Model parameter determines how a model will predict given a new instance. Model usually has more than one parameter (i.e. slope of a linear model). Hyperparameter is a parameter for the learning algorithm, not of a model."
   ]
  },
  {
   "cell_type": "markdown",
   "id": "0fc02729-dedc-4757-99d8-cb4437de34ba",
   "metadata": {},
   "source": [
    "### 13.What are the criteria that model-based learning algorithms look for? What is the most popular method they use to achieve success? What method do they use to make predictions?"
   ]
  },
  {
   "cell_type": "markdown",
   "id": "ae2c647d-8d04-4879-856c-ca47f84ae025",
   "metadata": {},
   "source": [
    " Model based learning algorithm search for the optimal value of parameters in a model that will give the best results for the new instances. We often use a cost function or similar to determine what the parameter value has to be in order to minimize the function. The model makes prediction by using the value of the new instance and the parameters in its function."
   ]
  },
  {
   "cell_type": "markdown",
   "id": "87a89ab8-4b09-42e0-84d2-bc6b1b6f9ffd",
   "metadata": {},
   "source": [
    "### 14.Can you name four of the most important Machine Learning challenges?"
   ]
  },
  {
   "cell_type": "raw",
   "id": "f465dac1-d804-44e4-99ca-d85e34e9ed86",
   "metadata": {},
   "source": [
    "Four main challenges in Machine Learning include the following:\n",
    "\n",
    "1.Overfitting the Data (using a model too complicated)\n",
    "2.Underfitting the data (using a simple model)\n",
    "3.Lacking in Data\n",
    "4.Non Representative Data."
   ]
  },
  {
   "cell_type": "markdown",
   "id": "35eeae43-b2f4-4ea7-b4d1-ad7d34794d85",
   "metadata": {},
   "source": [
    "### 15.What happens if the model performs well on the training data but fails to generalize the results to new situations? Can you think of three different options?"
   ]
  },
  {
   "cell_type": "raw",
   "id": "75a8b42e-df1a-4246-a023-6a51690b9a7c",
   "metadata": {},
   "source": [
    "If the model performs poorly to new instances, then it has overfitted on the training data. To solve this, we can do any of the following three:\n",
    "\n",
    "1.Get more data\n",
    "2.Implement a simpler model\n",
    "3.Eliminate outliers or noise from the existing data set."
   ]
  },
  {
   "cell_type": "markdown",
   "id": "df87b729-0083-4cfe-a4ea-7fdf91fdf1a9",
   "metadata": {},
   "source": [
    "### 16.What exactly is a test set, and why would you need one?"
   ]
  },
  {
   "cell_type": "markdown",
   "id": "5bb146a8-9b09-4079-8aaa-58fa90b2573e",
   "metadata": {},
   "source": [
    " Test set is a set to test your model (fit using training data) to see how it performs.Test set is necessary to determine how good (or bad) a model performs."
   ]
  },
  {
   "cell_type": "markdown",
   "id": "b71e40ce-35f8-4a37-969d-eb2025170e78",
   "metadata": {},
   "source": [
    "### 17.What is a validation set&#39;s purpose?"
   ]
  },
  {
   "cell_type": "markdown",
   "id": "67ab17cc-c61a-4b88-b60a-bd80d842f7b1",
   "metadata": {},
   "source": [
    " Validation set is a set used to compare between different training models."
   ]
  },
  {
   "cell_type": "markdown",
   "id": "189dc0de-d2fb-4276-9149-963cfbfe0b6f",
   "metadata": {},
   "source": [
    "### 18.What precisely is the train-dev kit, when will you need it, how do you put it to use?"
   ]
  },
  {
   "cell_type": "markdown",
   "id": "fc73d043-374e-4089-a53e-8a5a7a6762b5",
   "metadata": {},
   "source": [
    "Cross-validation is a tool to compare models without needing a separate validation set. It is preferred over validation set because we can save from breaking of part of the training set to create a validation set, as having more data is valuable regardless."
   ]
  },
  {
   "cell_type": "markdown",
   "id": "db7261d5-c3d1-477f-9f55-c7b816e29da3",
   "metadata": {},
   "source": [
    "### 19.What could go wrong if you use the test set to tune hyperparameters?"
   ]
  },
  {
   "cell_type": "markdown",
   "id": "f843739f-f0f7-427b-8c12-5800236fd852",
   "metadata": {},
   "source": [
    " If you tune hyperparameters using the test sets, then it may not perform well on the out-of-sample data because the model is tuned just for that specific set."
   ]
  }
 ],
 "metadata": {
  "kernelspec": {
   "display_name": "Python 3 (ipykernel)",
   "language": "python",
   "name": "python3"
  },
  "language_info": {
   "codemirror_mode": {
    "name": "ipython",
    "version": 3
   },
   "file_extension": ".py",
   "mimetype": "text/x-python",
   "name": "python",
   "nbconvert_exporter": "python",
   "pygments_lexer": "ipython3",
   "version": "3.9.12"
  }
 },
 "nbformat": 4,
 "nbformat_minor": 5
}
